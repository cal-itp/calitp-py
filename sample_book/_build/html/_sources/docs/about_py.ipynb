{
 "cells": [
  {
   "cell_type": "markdown",
   "id": "5cf0727f",
   "metadata": {},
   "source": [
    "(about_py)=\n",
    "\n",
    "## Juniper Documentation\n",
    "\n",
    "> \\\"Welcome.\\\" -- Natalya Diaz\n",
    "\n",
    "\n",
    "## Welcome\n",
    "\n",
    "(https://www.python.org) This website provides technical documentation for the Juniper codebase. Documentation for the `main` branch is available online at (https://docs.calitp.org/data-infra)\n",
    "\n",
    "### Editing Documentation\n",
    "\n",
    "The docs content all lives under `docs/`, with some top-level configuration for how the docs website gets built under `mkdocs.yml`. To add new sections/articles, simply create new directories/files under `docs/` in Markdown format.\n",
    "\n",
    "To preview the rendered docs website while you work, run `script/docs-server` from your terminal (requries Python 3.5+)\n",
    "\n",
    "Changes to docs will be published to the online docs website automatically after they are merged into the `main` branch.\n",
    "\n",
    "### Documentation features\n",
    "[Material for mkDocs: Reference](https://squidfunk.github.io/mkdocs-material/reference/admonitions/)\n",
    "- see `mkdocs.yml` for enabled plugins/features\n",
    "[Mermaid](https://mermaid-js.github.io/mermaid/#/)\n",
    "- use code fences with mermade type to render Mermaid diagrams within docs. for example this markdown:"
   ]
  },
  {
   "cell_type": "code",
   "execution_count": null,
   "id": "418dbab4",
   "metadata": {},
   "outputs": [],
   "source": [
    "```mermaid\n",
    "graph LR\n",
    "  Start --> Stop\n"
   ]
  },
  {
   "cell_type": "markdown",
   "id": "abffdda6",
   "metadata": {},
   "source": [
    "yields this diagram:\n",
    "diagram"
   ]
  }
 ],
 "metadata": {
  "jupytext": {
   "text_representation": {
    "extension": ".md",
    "format_name": "myst"
   }
  },
  "kernelspec": {
   "display_name": "Python 3",
   "language": "python",
   "name": "python3"
  },
  "source_map": [
   10,
   36,
   41
  ]
 },
 "nbformat": 4,
 "nbformat_minor": 5
}