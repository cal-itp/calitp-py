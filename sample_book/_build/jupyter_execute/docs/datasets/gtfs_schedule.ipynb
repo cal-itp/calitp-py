{
 "cells": [
  {
   "cell_type": "markdown",
   "id": "ca8ae873",
   "metadata": {},
   "source": [
    "(datasets/gtfs_schedule)=\n",
    "\n",
    "# GTFS Schedule\n",
    "\n",
    "## Overview"
   ]
  },
  {
   "cell_type": "code",
   "execution_count": 1,
   "id": "0ef05937",
   "metadata": {},
   "outputs": [
    {
     "data": {
      "text/plain": [
       "'Yeehaw'"
      ]
     },
     "metadata": {
      "scrapbook": {
       "mime_prefix": "",
       "name": "cool_text"
      }
     },
     "output_type": "display_data"
    }
   ],
   "source": [
    "from myst_nb import glue\n",
    "my_variable = \"Yeehaw\"\n",
    "glue(\"cool_text\", my_variable)"
   ]
  },
  {
   "cell_type": "markdown",
   "id": "dbf9417f",
   "metadata": {},
   "source": [
    "You can then insert it into your text. Adding\n",
    "`` {glue:}`cool_text` `` to your content results in the\n",
    "following: {glue:}`cool_text`.\n",
    "\n",
    "\n",
    "We\\'re now ready to start learning the Python language itself.\n",
    "\n",
    "In this lecture, we will write and then pick apart small Python\n",
    "programs.\n",
    "\n",
    "The objective is to introduce you to basic Python syntax and data\n",
    "structures.\n",
    "\n",
    "Deeper concepts will be covered in later lectures.\n",
    "\n",
    "You should have read the on getting started with Python before beginning this one."
   ]
  }
 ],
 "metadata": {
  "jupytext": {
   "text_representation": {
    "extension": ".md",
    "format_name": "myst"
   }
  },
  "kernelspec": {
   "display_name": "Python 3",
   "language": "python",
   "name": "python3"
  },
  "language_info": {
   "codemirror_mode": {
    "name": "ipython",
    "version": 3
   },
   "file_extension": ".py",
   "mimetype": "text/x-python",
   "name": "python",
   "nbconvert_exporter": "python",
   "pygments_lexer": "ipython3",
   "version": "3.9.6"
  },
  "source_map": [
   10,
   18,
   22
  ]
 },
 "nbformat": 4,
 "nbformat_minor": 5
}