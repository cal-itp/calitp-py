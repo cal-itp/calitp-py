{
 "cells": [
  {
   "cell_type": "markdown",
   "id": "1b9b2fb4",
   "metadata": {},
   "source": [
    "(Datasets)=\n",
    "\n",
    "## Overview\n",
    "\n",
    "Table\n",
    "\n",
    "In this lecture, you will learn how to\n",
    "\n",
    "1.  get a Python environment up and running\n",
    "2.  execute simple Python commands\n",
    "3.  run a sample program\n",
    "4.  install the code libraries that underpin these lectures\n",
    "\n",
    "## Querying Data\n",
    "### Using metabase dashboards\n",
    "\n",
    "####basic query"
   ]
  }
 ],
 "metadata": {
  "jupytext": {
   "text_representation": {
    "extension": ".md",
    "format_name": "myst"
   }
  },
  "kernelspec": {
   "display_name": "Python 3",
   "language": "python",
   "name": "python3"
  },
  "language_info": {
   "codemirror_mode": {
    "name": "ipython",
    "version": 3
   },
   "file_extension": ".py",
   "mimetype": "text/x-python",
   "name": "python",
   "nbconvert_exporter": "python",
   "pygments_lexer": "ipython3",
   "version": "3.9.6"
  },
  "source_map": [
   10
  ]
 },
 "nbformat": 4,
 "nbformat_minor": 5
}