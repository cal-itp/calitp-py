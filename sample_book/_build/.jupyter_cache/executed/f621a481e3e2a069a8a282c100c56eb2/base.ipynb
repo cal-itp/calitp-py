{
 "cells": [
  {
   "cell_type": "code",
   "execution_count": 1,
   "id": "572c930d",
   "metadata": {},
   "outputs": [
    {
     "data": {
      "text/plain": [
       "'Yeehaw'"
      ]
     },
     "metadata": {
      "scrapbook": {
       "mime_prefix": "",
       "name": "cool_text"
      }
     },
     "output_type": "display_data"
    }
   ],
   "source": [
    "from myst_nb import glue\n",
    "my_variable = \"Yeehaw\"\n",
    "glue(\"cool_text\", my_variable)"
   ]
  }
 ],
 "metadata": {
  "jupytext": {
   "text_representation": {
    "extension": ".md",
    "format_name": "myst"
   }
  },
  "kernelspec": {
   "display_name": "Python 3",
   "language": "python",
   "name": "python3"
  },
  "language_info": {
   "codemirror_mode": {
    "name": "ipython",
    "version": 3
   },
   "file_extension": ".py",
   "mimetype": "text/x-python",
   "name": "python",
   "nbconvert_exporter": "python",
   "pygments_lexer": "ipython3",
   "version": "3.9.6"
  },
  "source_map": [
   10,
   18,
   22
  ]
 },
 "nbformat": 4,
 "nbformat_minor": 5
}